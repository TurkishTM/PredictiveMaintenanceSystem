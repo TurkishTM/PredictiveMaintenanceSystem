{
 "cells": [
  {
   "cell_type": "markdown",
   "id": "e45a62eb",
   "metadata": {},
   "source": [
    "# ***1- Importing Libraries***"
   ]
  },
  {
   "cell_type": "code",
   "execution_count": null,
   "id": "310829da",
   "metadata": {},
   "outputs": [],
   "source": [
    "import numpy as np\n",
    "import pandas as pd\n",
    "import matplotlib.pyplot as plt\n",
    "import seaborn as sns\n"
   ]
  },
  {
   "cell_type": "markdown",
   "id": "f24984ca",
   "metadata": {},
   "source": [
    "# ***2- Importing DataSet***"
   ]
  },
  {
   "cell_type": "code",
   "execution_count": 2,
   "id": "0dc30319",
   "metadata": {},
   "outputs": [],
   "source": [
    "df = pd.read_csv('MainDataSet.csv')"
   ]
  },
  {
   "cell_type": "markdown",
   "id": "8ec2e340",
   "metadata": {},
   "source": []
  }
 ],
 "metadata": {
  "kernelspec": {
   "display_name": "base",
   "language": "python",
   "name": "python3"
  },
  "language_info": {
   "codemirror_mode": {
    "name": "ipython",
    "version": 3
   },
   "file_extension": ".py",
   "mimetype": "text/x-python",
   "name": "python",
   "nbconvert_exporter": "python",
   "pygments_lexer": "ipython3",
   "version": "3.12.2"
  }
 },
 "nbformat": 4,
 "nbformat_minor": 5
}
